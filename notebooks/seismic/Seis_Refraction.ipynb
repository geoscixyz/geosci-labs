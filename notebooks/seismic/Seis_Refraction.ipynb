{
 "cells": [
  {
   "cell_type": "code",
   "execution_count": null,
   "metadata": {},
   "outputs": [],
   "source": [
    "%matplotlib inline\n",
    "import matplotlib.pyplot as plt\n",
    "from geoscilabs.seismic.SeismicRefraction import (\n",
    "    plotWavelet, viewTXdiagram, plotWiggleTX, makeinteractSeisRefracSurvey,\n",
    "    makeinteractTXwigglediagram\n",
    ")"
   ]
  },
  {
   "cell_type": "markdown",
   "metadata": {},
   "source": [
    "# Interpretation and data acquisition strategies of seismic refraction data"
   ]
  },
  {
   "cell_type": "markdown",
   "metadata": {},
   "source": [
    "In the <a href=\"https://www.3ptscience.com/app/SeismicRefraction\">3pt Science app</a>, you explored the expected arrival times for refractions and reflections from a two-layer over a half-space model. \n",
    "\n",
    "In this notebook, we will use synthetic seismic data to examine the impact of survey parameters on the expected seismic data."
   ]
  },
  {
   "cell_type": "markdown",
   "metadata": {},
   "source": [
    "## Source "
   ]
  },
  {
   "cell_type": "markdown",
   "metadata": {},
   "source": [
    "In an ideal case, the source wavelet would be an impulse (ie. an instantaneous spike). However, in reality, the source energy is spread in space and in time (see the <a href=\"http://gpg.geosci.xyz/content/seismic/wave_basics.html#waves-and-rays\">GPG: Waves and Rays</a>). The source wavelet used for these examples is shown below. "
   ]
  },
  {
   "cell_type": "code",
   "execution_count": null,
   "metadata": {
    "scrolled": false
   },
   "outputs": [],
   "source": [
    "plotWavelet()"
   ]
  },
  {
   "cell_type": "markdown",
   "metadata": {},
   "source": [
    "## Data\n",
    "\n",
    "Below, we show 3 plots:\n",
    "- **left**: expected arrival times for the direct, refracted waves and reflection from the first layer\n",
    "- **center**: clean data - the wavelet arriving at the expected arrival time. Each line represents what would be recorded by an ideal geophone.\n",
    "- **right**: noisy data - clean data + random noise. \n",
    "\n",
    "The model used is the same as is in the lab write-up: \n",
    "- v1 = 400 m/s\n",
    "- v2 = 1000 m/s\n",
    "- v3 = 1500 m/s\n",
    "- z1 = 5m (depth to layer 1)\n",
    "- z2 = 15m (depth to layer 2)"
   ]
  },
  {
   "cell_type": "code",
   "execution_count": null,
   "metadata": {
    "scrolled": false
   },
   "outputs": [],
   "source": [
    "fig, ax = plt.subplots(1, 3, figsize=(15,6))\n",
    "ax[0].set_title('Expected Arrival Times')\n",
    "ax[1].set_title('Clean Data')\n",
    "ax[2].set_title('Noisy Data')\n",
    "ax[0]=viewTXdiagram(x0=1., dx=8, v1=400., v2=1000., v3=1500., z1=5., z2=15., ax=ax[0])\n",
    "ax[1]=plotWiggleTX(x0=1., dx=8, v1=400., v2=1000., v3=1500., z1=5., z2=15., ax=ax[1])\n",
    "ax[2]=plotWiggleTX(x0=1., dx=8, v1=400., v2=1000., v3=1500., z1=5., z2=15., ax=ax[2], noise=True)\n",
    "plt.show()"
   ]
  },
  {
   "cell_type": "markdown",
   "metadata": {},
   "source": [
    "## Setup for the seismic refraction survey"
   ]
  },
  {
   "cell_type": "markdown",
   "metadata": {},
   "source": [
    "Consider a shot gather for seismic refraction survey, which means we have one shot (source), and multiple receivers (12). Shot location is fixed at x=0. There are two survey parameters: \n",
    "\n",
    "- x0: offset between shot and the first geophone\n",
    "- dx: spacing between two consecutive geophones\n",
    "\n",
    "In the widget below you can alter x0 or dx to change your survey setup. Run the next cell then try to change x0 and dx in the cell below that. Note that the next two cells are designed to help you visualize the survey layout. The x0 and dx parameter adjustment sliders here are not linked to the widget at the end of this notebook."
   ]
  },
  {
   "cell_type": "code",
   "execution_count": null,
   "metadata": {},
   "outputs": [],
   "source": [
    "makeinteractSeisRefracSurvey()"
   ]
  },
  {
   "cell_type": "markdown",
   "metadata": {},
   "source": [
    "## Interpretation of seismic refraction data"
   ]
  },
  {
   "cell_type": "markdown",
   "metadata": {},
   "source": [
    "Assume that you have seismic refraction data. The structure of the earth is unknown and you may want to obtain useful information about the subsurface. We will assume that the subsurface in the survey area has a three-layer structure and that the velocities increase with depth. \n",
    "Thus, there can be four unknowns:\n",
    "\n",
    "- v1: velocity of the first layer (m/s)\n",
    "- v2: velocity of the second layer (m/s)\n",
    "- v3: velocity of the third layer (m/s)\n",
    "- z1: depth of the first layer (m)\n",
    "- z2: depth of the second layer (m)\n",
    "\n",
    "Based on the above information, we may expect to have up to four arrivals at a geophone, related to \n",
    "\n",
    "- Direct\n",
    "- Reflected: interface 1\n",
    "- Refraction: interface 1\n",
    "- Refraction: interface 2"
   ]
  },
  {
   "cell_type": "markdown",
   "metadata": {},
   "source": [
    "The widget below will allow you to estimate the layer depths and velocities. The parameters for the widget are:\n",
    "\n",
    "- x0: offset between shot and the first geophone\n",
    "- dx: spacing between two consecutive geophones\n",
    "- Fit: checking this activates fittting function (if you click this red line will show up)\n",
    "- tI: intercept time for a line function (s)\n",
    "- v: inverse slope of the line function (m/s; which can be velocity of either direct and critically refracted wave)"
   ]
  },
  {
   "cell_type": "markdown",
   "metadata": {},
   "source": [
    "### Run below widget and find useful subsurface information!"
   ]
  },
  {
   "cell_type": "code",
   "execution_count": null,
   "metadata": {
    "scrolled": false
   },
   "outputs": [],
   "source": [
    "makeinteractTXwigglediagram()"
   ]
  }
 ],
 "metadata": {
  "anaconda-cloud": {},
  "kernelspec": {
   "display_name": "Python 3",
   "language": "python",
   "name": "python3"
  },
  "language_info": {
   "codemirror_mode": {
    "name": "ipython",
    "version": 3
   },
   "file_extension": ".py",
   "mimetype": "text/x-python",
   "name": "python",
   "nbconvert_exporter": "python",
   "pygments_lexer": "ipython3",
   "version": "3.7.4"
  },
  "latex_envs": {
   "bibliofile": "biblio.bib",
   "cite_by": "apalike",
   "current_citInitial": 1,
   "eqLabelWithNumbers": true,
   "eqNumInitial": 0
  },
  "widgets": {
   "state": {
    "58141af61d2a4d6393c0f5e35a09cccf": {
     "views": [
      {
       "cell_index": 10
      }
     ]
    },
    "75727a01f50445469ade2c7092094a5b": {
     "views": [
      {
       "cell_index": 15
      }
     ]
    }
   },
   "version": "1.2.0"
  }
 },
 "nbformat": 4,
 "nbformat_minor": 1
}
