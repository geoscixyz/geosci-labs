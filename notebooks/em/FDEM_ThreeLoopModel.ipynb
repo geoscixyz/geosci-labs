{
 "cells": [
  {
   "cell_type": "markdown",
   "metadata": {},
   "source": [
    "# Electromagnetics: 3-loop model\n",
    "\n",
    "In the first part of this notebook, we consider a 3 loop system, consisting of a transmitter loop, receiver loop, and target loop. \n",
    "\n",
    "<img src=\"https://github.com/geoscixyz/geosci-labs/blob/main/images/em/FEM3Loop/SurveyParams.png?raw=true\" style=\"width: 60%; height: 60%\"> </img>\n",
    "\n",
    "\n",
    "## Import Necessary Packages"
   ]
  },
  {
   "cell_type": "code",
   "execution_count": null,
   "metadata": {},
   "outputs": [],
   "source": [
    "%matplotlib inline\n",
    "from geoscilabs.em.FDEM3loop import interactfem3loop\n",
    "from geoscilabs.em.FDEMpipe import interact_femPipe"
   ]
  },
  {
   "cell_type": "code",
   "execution_count": null,
   "metadata": {},
   "outputs": [],
   "source": [
    "from matplotlib import rcParams\n",
    "rcParams['font.size'] = 14"
   ]
  },
  {
   "cell_type": "markdown",
   "metadata": {},
   "source": [
    "\n",
    "Your Default Parameters should be: \n",
    "\n",
    "<table>\n",
    "<tr>\n",
    "<th>Parameter </th>\n",
    "<th>Default value</th>\n",
    "</tr>\n",
    "<tr>\n",
    "<td>Inductance:</td>\n",
    "<td>L = 0.1</td>\n",
    "</tr>\n",
    "<tr>\n",
    "<td>Resistance:</td>\n",
    "<td>R = 2000</td>\n",
    "</tr>\n",
    "<tr>\n",
    "<td>X-center of target loop:</td>\n",
    "<td>xc = 0</td>\n",
    "</tr>\n",
    "<tr>\n",
    "<td>Y-center of target loop:</td>\n",
    "<td>yc = 0</td>\n",
    "</tr>\n",
    "<tr>\n",
    "<td>Z-center of target loop:</td>\n",
    "<td>zc = 1</td>\n",
    "</tr>\n",
    "<tr>\n",
    "<td>Inclination of target loop:</td>\n",
    "<td>dincl = 0</td>\n",
    "</tr>\n",
    "<tr>\n",
    "<td>Declination of target loop:</td>\n",
    "<td>ddecl = 90</td>\n",
    "</tr>\n",
    "<tr>\n",
    "<td>Frequency:</td>\n",
    "<td>f = 10000 </td>\n",
    "</tr>\n",
    "<tr>\n",
    "<td>Sample spacing:</td>\n",
    "<td>dx = 0.25 </td>\n",
    "</tr>\n",
    "</table>\n",
    "\n",
    "To use the default parameters below, either click the box for \"default\" or adjust the sliders for R, zc, and dx. When answering the lab questions, make sure all the sliders are where they should be!"
   ]
  },
  {
   "cell_type": "markdown",
   "metadata": {},
   "source": [
    "## Run FEM3loop Widget"
   ]
  },
  {
   "cell_type": "code",
   "execution_count": null,
   "metadata": {
    "scrolled": false
   },
   "outputs": [],
   "source": [
    "fem3loop = interactfem3loop()\n",
    "fem3loop"
   ]
  },
  {
   "cell_type": "markdown",
   "metadata": {},
   "source": [
    "# Pipe Widget\n",
    "\n",
    "In the following app, we consider a loop-loop system with a pipe taget. Here, we simulate two surveys, one where the boom is oriented East-West (EW) and one where the boom is oriented North-South (NS). \n",
    "\n",
    "<img src=\"https://github.com/geoscixyz/geosci-labs/blob/main/images/em/FEM3Loop/model.png?raw=true\" style=\"width: 40%; height: 40%\"> </img>\n",
    "\n",
    "The variables are:\n",
    "\n",
    "- alpha: \n",
    "$$\\alpha = \\frac{\\omega L}{R} = \\frac{2\\pi f L}{R}$$\n",
    "- pipedepth: Depth of the pipe center\n",
    "\n",
    "We plot the percentage of Hp/Hs ratio in the Widget. "
   ]
  },
  {
   "cell_type": "code",
   "execution_count": null,
   "metadata": {},
   "outputs": [],
   "source": [
    "pipe = interact_femPipe()\n",
    "pipe"
   ]
  },
  {
   "cell_type": "code",
   "execution_count": null,
   "metadata": {},
   "outputs": [],
   "source": []
  }
 ],
 "metadata": {
  "anaconda-cloud": {},
  "kernelspec": {
   "display_name": "Python 3",
   "language": "python",
   "name": "python3"
  },
  "language_info": {
   "codemirror_mode": {
    "name": "ipython",
    "version": 3
   },
   "file_extension": ".py",
   "mimetype": "text/x-python",
   "name": "python",
   "nbconvert_exporter": "python",
   "pygments_lexer": "ipython3",
   "version": "3.7.6"
  }
 },
 "nbformat": 4,
 "nbformat_minor": 1
}
