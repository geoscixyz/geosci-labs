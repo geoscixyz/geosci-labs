{
 "cells": [
  {
   "cell_type": "markdown",
   "metadata": {},
   "source": [
    "# 2D DC Resistivity Inversion"
   ]
  },
  {
   "cell_type": "code",
   "execution_count": 1,
   "metadata": {},
   "outputs": [],
   "source": [
    "from geoscilabs.inversion.DCResistivity import DCRInversionApp\n",
    "dc_app = DCRInversionApp()"
   ]
  },
  {
   "cell_type": "markdown",
   "metadata": {},
   "source": [
    "# Purpose\n",
    "\n",
    "We load observed DC data, and invert to recover a resistivity model. By altering inversion parameters and exploring correspoding inversion results, we investigate important aspects of the 2D DC resistivity inversion. \n",
    "\n",
    "## Outline\n",
    "This notebook includes four steps:\n",
    "- Step1: Load observed data\n",
    "- Step2: Plot observed data\n",
    "- Step3: Set uncertainty\n",
    "- Step4: Run inversion\n",
    "- Step5: Explore inversion results\n",
    "- Step6: Run inversion to compute DOI index\n",
    "- Step7: Plot DOI index"
   ]
  },
  {
   "cell_type": "markdown",
   "metadata": {},
   "source": [
    "## Step1: Load observed data\n",
    "\n",
    "- `obsname`: file name for the observed data\n",
    "- `load`: will load the observation file if this is checked\n",
    "- `input type`: type of the input file\n",
    "- `toponame`: file name for the topography (only needed when `input type` = `ubc_dc2d`)"
   ]
  },
  {
   "cell_type": "code",
   "execution_count": 2,
   "metadata": {},
   "outputs": [
    {
     "data": {
      "application/vnd.jupyter.widget-view+json": {
       "model_id": "6e46c70a973e4e7c8220a09dd0111611",
       "version_major": 2,
       "version_minor": 0
      },
      "text/plain": [
       "interactive(children=(Text(value='dc.csv', description='obsname:', placeholder='Type something'), Checkbox(val…"
      ]
     },
     "metadata": {},
     "output_type": "display_data"
    }
   ],
   "source": [
    "dc_app.interact_load_obs()"
   ]
  },
  {
   "cell_type": "markdown",
   "metadata": {},
   "source": [
    "## Step2: Plot observed data\n",
    "\n",
    "- `data type`: type of the data\n",
    "- `plot type`: type of the data plot\n",
    "- `scale`: scale of the plot (log or linear)\n",
    "- `nbins`: number of bins when `plot type` is `histogram`\n",
    "- `aspect_ratio`: vertical to horizontal ratio"
   ]
  },
  {
   "cell_type": "code",
   "execution_count": 4,
   "metadata": {},
   "outputs": [
    {
     "data": {
      "application/vnd.jupyter.widget-view+json": {
       "model_id": "c07e177362d64fe1bf5f7b95732ca28a",
       "version_major": 2,
       "version_minor": 0
      },
      "text/plain": [
       "interactive(children=(ToggleButtons(description='data type', options=('apparent_resistivity', 'volt'), value='…"
      ]
     },
     "metadata": {},
     "output_type": "display_data"
    }
   ],
   "source": [
    "dc_app.interact_plot_obs_data()"
   ]
  },
  {
   "cell_type": "markdown",
   "metadata": {},
   "source": [
    "## Step3: Set uncertainty\n",
    "\n",
    "$$ \\text{uncertainty} = 0.01 \\times \\text{percentage}\\times|d^{obs}| + \\text{floor}$$\n",
    "\n",
    "- `percentage (%)`: percentage error\n",
    "- `floor (V)`: floor error"
   ]
  },
  {
   "cell_type": "code",
   "execution_count": 5,
   "metadata": {},
   "outputs": [
    {
     "data": {
      "application/vnd.jupyter.widget-view+json": {
       "model_id": "1d1b216fa7354f16946799e5d8dca0ef",
       "version_major": 2,
       "version_minor": 0
      },
      "text/plain": [
       "interactive(children=(FloatText(value=5.0, description='percentage'), FloatText(value=0.0, description='floor'…"
      ]
     },
     "metadata": {},
     "output_type": "display_data"
    }
   ],
   "source": [
    "dc_app.interact_set_uncertainty()"
   ]
  },
  {
   "cell_type": "markdown",
   "metadata": {},
   "source": [
    "## Step4: Run inversion\n",
    "\n",
    "- $\\rho_0$: initial resistivity model\n",
    "- $\\rho_{ref}$: reference resistivity model\n",
    "- `alpha_s`: $\\alpha_s$ (default is 1/L$^2$, where L is the smallest cell size)\n",
    "- `alpha_x`: $\\alpha_x$\n",
    "- `alpha_z`: $\\alpha_z$\n",
    "- `maxIter`: maximum number of iteration\n",
    "- `chifact`: chifactor for the target misfit\n",
    "- `beta0_ratio`: ratio to set the initial beta\n",
    "- `coolingFactor`: cooling factor to cool beta\n",
    "- `n_iter_per_beta`: # of interation for each beta value \n",
    "- `run`: run inversion if this is checked"
   ]
  },
  {
   "cell_type": "code",
   "execution_count": 6,
   "metadata": {
    "scrolled": false
   },
   "outputs": [
    {
     "data": {
      "application/vnd.jupyter.widget-view+json": {
       "model_id": "37c47610859541359ad7d4052506c025",
       "version_major": 2,
       "version_minor": 0
      },
      "text/plain": [
       "interactive(children=(FloatText(value=71.0, description='$\\\\rho_0$'), FloatText(value=71.0, description='$\\\\rh…"
      ]
     },
     "metadata": {},
     "output_type": "display_data"
    }
   ],
   "source": [
    "dc_app.interact_run_inversion()"
   ]
  },
  {
   "cell_type": "markdown",
   "metadata": {},
   "source": [
    "## Step5: Explore inversion results\n",
    "\n",
    "- `iteration`: inversion iteration\n",
    "- `curve type`:type of the curve (this is active when `plot type`=`misfit_curve`)\n",
    "- `scale`: linear or log scale (this is active when `plot type`=`misfit_curve`)\n",
    "- `plot type`: type of the plot\n",
    "- `show grid?`: show mesh grid when this is checked\n",
    "- `show core?`: show only core domain when this is checked"
   ]
  },
  {
   "cell_type": "code",
   "execution_count": 8,
   "metadata": {
    "scrolled": false
   },
   "outputs": [
    {
     "data": {
      "application/vnd.jupyter.widget-view+json": {
       "model_id": "3c6f8a67fdec4f7ebbe8bda7604c8d77",
       "version_major": 2,
       "version_minor": 0
      },
      "text/plain": [
       "interactive(children=(IntSlider(value=1, continuous_update=False, description='iteration', max=3, min=1), Togg…"
      ]
     },
     "metadata": {},
     "output_type": "display_data"
    }
   ],
   "source": [
    "dc_app.interact_plot_inversion_results()"
   ]
  },
  {
   "cell_type": "markdown",
   "metadata": {},
   "source": [
    "## Step6: Run inversion to compute DOI index\n",
    "\n",
    "Depth of investigation (DOI) index can be computed by following equation (Oldenburg and Li, XXXX):\n",
    "\n",
    "$$ \\text{doi index} = \\frac{m^1-m^2}{m_{ref}^1-m_{ref}^2}$$\n",
    "\n",
    "where \n",
    "\n",
    "- $m^1$: inversion model 1 (from Step5)\n",
    "- $m^2$: inversion model 2 (same inversion parameters with model 1 except for `m0` and `mref`\n",
    "- $m_{ref}^1$: reference model 1 (used for Step 5)\n",
    "- $m_{ref}^2$: reference model 2 (=$m_{ref}^1 \\times$ factor)\n",
    "\n",
    "Here a constant factor is multiplied to generate a new reference model. \n",
    "Below app will run inversion to obtain another inversion model ($m^2$), which will allow us to \n",
    "compute DOI index in the following app. \n",
    "\n",
    "### Parameters\n",
    "- `factor`: constant factor to compute a new reference model\n",
    "- `run`: if checked, then a new inverion will run"
   ]
  },
  {
   "cell_type": "code",
   "execution_count": 7,
   "metadata": {},
   "outputs": [
    {
     "data": {
      "application/vnd.jupyter.widget-view+json": {
       "model_id": "b6bd7a6079ee47ea94f09c6823ef30b7",
       "version_major": 2,
       "version_minor": 0
      },
      "text/plain": [
       "interactive(children=(FloatText(value=0.5, description='factor'), Checkbox(value=True, description='run'), Out…"
      ]
     },
     "metadata": {},
     "output_type": "display_data"
    }
   ],
   "source": [
    "dc_app.interact_run_doi()"
   ]
  },
  {
   "cell_type": "markdown",
   "metadata": {},
   "source": [
    "##  Step 7: Plot DOI index\n",
    "\n",
    "- `plot type`: type of the plot\n",
    "- `doi_level`: level of the doi index\n",
    "- `scale`: linear or log scale (this is active when `plot type`=`models` or `final`)\n",
    "- `show grid?`: show mesh grid when this is checked\n",
    "- `show core?`: show only core domain when this is checked\n",
    "- `aspect_ratio`: vertical to horizontal ratio"
   ]
  },
  {
   "cell_type": "code",
   "execution_count": 8,
   "metadata": {},
   "outputs": [
    {
     "data": {
      "application/vnd.jupyter.widget-view+json": {
       "model_id": "a9a22110157c4d3f818084e106726841",
       "version_major": 2,
       "version_minor": 0
      },
      "text/plain": [
       "interactive(children=(ToggleButtons(description='plot type', options=('models', 'doi', 'final'), value='models…"
      ]
     },
     "metadata": {},
     "output_type": "display_data"
    }
   ],
   "source": [
    "dc_app.interact_plot_doi_results()"
   ]
  }
 ],
 "metadata": {
  "kernelspec": {
   "display_name": "Python 3",
   "language": "python",
   "name": "python3"
  },
  "language_info": {
   "codemirror_mode": {
    "name": "ipython",
    "version": 3
   },
   "file_extension": ".py",
   "mimetype": "text/x-python",
   "name": "python",
   "nbconvert_exporter": "python",
   "pygments_lexer": "ipython3",
   "version": "3.7.3"
  }
 },
 "nbformat": 4,
 "nbformat_minor": 2
}
