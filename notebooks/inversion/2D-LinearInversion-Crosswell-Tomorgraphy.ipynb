{
 "cells": [
  {
   "cell_type": "markdown",
   "metadata": {},
   "source": [
    "# 2D Linear Inversion of Crosswell Tomography Data "
   ]
  },
  {
   "cell_type": "code",
   "execution_count": 1,
   "metadata": {},
   "outputs": [],
   "source": [
    "import numpy as np\n",
    "from geoscilabs.inversion.TomographyInversion import TomographyInversionApp\n",
    "import matplotlib.pyplot as plt\n",
    "from ipywidgets import interact, IntSlider\n",
    "%matplotlib inline"
   ]
  },
  {
   "cell_type": "markdown",
   "metadata": {},
   "source": [
    "# Purpose\n",
    "\n",
    "From the Linear inversion notebook (1D), we learned important apsects about the linear inversion. \n",
    "However, real world geophysical inverse problem are not often 1D, but multidimensional (2D or 3D), and this extension of dimension allows us to put more apriori (or geologic) information through the regularization term. \n",
    "In this notebook, we explore these multidimensional aspects of the linear inversion by using 2D traveltime croswell tomography example. \n",
    "\n",
    "## Outline\n",
    "This notebook includes four steps:\n",
    "- Step1: Generate a velocity model\n",
    "- Step2: Simulate traveltime data and add noise\n",
    "- Step3: Run $l_2$ inversion"
   ]
  },
  {
   "cell_type": "markdown",
   "metadata": {},
   "source": [
    "## Step1: Generate a velocity model\n",
    "\n",
    "Here we set up a velocity model using a following app. Controlling parameters of the app are:\n",
    "\n",
    "- `set mesh`: use active **only** when you want to change the 2D mesh\n",
    "- `add block`: use active when you want to add block (if not stay inactive)\n",
    "- `model type`: background or block\n",
    "- `show grid?`: show grid of the mesh\n",
    "\n",
    "- `v0`: velocity of the background\n",
    "- `v1`: velocity of the block\n",
    "- `xc`: x center of the block\n",
    "- `yc`: y center of the block\n",
    "- `dx`: width of the block\n",
    "- `dy`: thickness of the block\n",
    "- `nx`: # of cells in x-direction (this is only active when `set_mesh=active`)\n",
    "- `ny`: # of cells in y-direction (this is only active when `set_mesh=active`)\n",
    "\n",
    "### Changing # of cells in $x$- or $z$- direction\n",
    "Related parameters for this task are: `set mesh`, `nx`, `ny`. \n",
    "Size of the 2D domain are fixed to 200m $\\times$ 400m, but the number of cells in each direction can be changed such that you can alter size of the cells in each direction. When you change either `nx` or `ny` make sure you choose `set mesh=active` otherwise `set mesh=inactive`. Note that once mesh setup is changed, velocity model is reset to a background value (`v0`). \n",
    "\n",
    "### Changing a parameter of a single block\n",
    "Although you can change the location, size, and velocity of the block there are few rules that you need to follow to do so. \n",
    "\n",
    "1. If you want to change the parameter of the block: first set `add block=active` then change parameters of the block (`v1`, `xc`, `zc`, `dx`, `dy`)\n",
    "\n",
    "2. Once you changed the parameters, make sure first choose `model type=background` then change that to `model type=block`\n",
    "\n",
    "### Adding more blocks\n",
    "You can also add multiple blocks. To add a block follow below steps:\n",
    "\n",
    "1. Set `add block=inactive`, then change the parameter of the new block using: `v1`, `xc`, `zc`, `dx`, `dy`. Velocity model will not change, but you can see the white lines which illustrate boundary of the new block.\n",
    "\n",
    "2. Once you are happy with the new block, set `add block=active`, then velocity model will be updated with the new block that you have set. \n",
    "\n",
    "3. Repeat 1 and 2 if you want to add more blocks. \n"
   ]
  },
  {
   "cell_type": "code",
   "execution_count": 2,
   "metadata": {
    "scrolled": false
   },
   "outputs": [
    {
     "data": {
      "application/vnd.jupyter.widget-view+json": {
       "model_id": "8e0ffb3d72324996886d103d9480addf",
       "version_major": 2,
       "version_minor": 0
      },
      "text/plain": [
       "HBox(children=(VBox(children=(FloatSlider(value=1000.0, continuous_update=False, description='v0', max=3000.0,…"
      ]
     },
     "metadata": {},
     "output_type": "display_data"
    }
   ],
   "source": [
    "app = TomographyInversionApp()\n",
    "app.interact_plot_model()"
   ]
  },
  {
   "cell_type": "markdown",
   "metadata": {},
   "source": [
    "## Step2: Simulate travel time data and add noise\n",
    "\n",
    "Within this app, by using the velocity model set up, we simulate traveltime tomography data and add Gaussian noise. This syntehtic data set will be used in the following inversion module. Controlling parameters are:\n",
    "\n",
    "- `percent (%)`: percentage of the Gaussian noise\n",
    "- `floor (s)`: floor of the Gaussain noise\n",
    "- `random seed`: seed to generate random variables having normal distribution\n",
    "- `tx_rx_plane` or `histogram`: choice of the plotting data\n",
    "- `update`: this buttion is for the interactin between the first app. If the velocity model is changed by altering the first app, you can simply click `update` to run simulation again with the updated velocity model. \n"
   ]
  },
  {
   "cell_type": "code",
   "execution_count": 3,
   "metadata": {},
   "outputs": [
    {
     "data": {
      "application/vnd.jupyter.widget-view+json": {
       "model_id": "7c8bf57aaf8c4b289ef1e4d074936158",
       "version_major": 2,
       "version_minor": 0
      },
      "text/plain": [
       "HBox(children=(Output(), Box(children=(Box(children=(BoundedFloatText(value=0.0, description='percent ($\\\\%$):…"
      ]
     },
     "metadata": {},
     "output_type": "display_data"
    }
   ],
   "source": [
    "app.interact_data()"
   ]
  },
  {
   "cell_type": "markdown",
   "metadata": {},
   "source": [
    "## Step3: $l_2$ inversion\n",
    "\n",
    "- `maxIter`: maximum number of iteration\n",
    "- `m0`: initial model\n",
    "- `mref`: reference model\n",
    "- `percentage`: percent standard deviation for the uncertainty\n",
    "- `floor`: floor value for the uncertainty\n",
    "- `chifact`: chifactor for the target misfit\n",
    "- `beta0_ratio`: ratio to set the initial beta\n",
    "- `coolingFactor`: cooling factor to cool beta\n",
    "- `n_iter_per_beta`: # of interation for each beta value \n",
    "- `alpha_s`: $\\alpha_s$\n",
    "- `alpha_x`: $\\alpha_x$\n",
    "- `alpha_z`: $\\alpha_z$\n",
    "- `use_target`: use target misfit as a stopping criteria or not"
   ]
  },
  {
   "cell_type": "markdown",
   "metadata": {},
   "source": [
    "### Step 3-1: Run inversion"
   ]
  },
  {
   "cell_type": "code",
   "execution_count": 4,
   "metadata": {},
   "outputs": [
    {
     "name": "stdout",
     "output_type": "stream",
     "text": [
      "1\n",
      "\n",
      "        SimPEG.InvProblem is setting bfgsH0 to the inverse of the eval2Deriv.\n",
      "        ***Done using same Solver and solverOpts as the problem***\n",
      "SimPEG.SaveOutputEveryIteration will save your inversion progress as: '###-InversionModel-2020-04-30-13-09.txt'\n",
      "model has any nan: 0\n",
      "=============================== Projected GNCG ===============================\n",
      "  #     beta     phi_d     phi_m       f      |proj(x-g)-x|  LS    Comment   \n",
      "-----------------------------------------------------------------------------\n",
      "x0 has any nan: 0\n",
      "   0  2.39e+06  3.40e+02  4.00e-02  9.60e+04    1.41e-02      0              \n",
      "   1  1.20e+06  6.76e+02  3.53e-06  6.81e+02    3.20e+05      0              \n",
      "   2  5.98e+05  6.60e+02  1.37e-05  6.68e+02    3.15e+05      0              \n",
      "   3  2.99e+05  6.30e+02  5.14e-05  6.45e+02    3.05e+05      0   Skip BFGS  \n",
      "   4  1.50e+05  5.77e+02  1.83e-04  6.04e+02    2.87e+05      0   Skip BFGS  \n",
      "   5  7.48e+04  4.94e+02  5.91e-04  5.38e+02    2.59e+05      0   Skip BFGS  \n",
      "   6  3.74e+04  3.84e+02  1.66e-03  4.46e+02    2.17e+05      0   Skip BFGS  \n",
      "   7  1.87e+04  2.66e+02  3.93e-03  3.40e+02    1.67e+05      0   Skip BFGS  \n",
      "   8  9.35e+03  1.65e+02  7.79e-03  2.38e+02    1.18e+05      0   Skip BFGS  \n",
      "   9  4.67e+03  9.27e+01  1.32e-02  1.54e+02    7.65e+04      0   Skip BFGS  \n",
      "------------------------- STOP! -------------------------\n",
      "1 : |fc-fOld| = 0.0000e+00 <= tolF*(1+|f0|) = 9.6048e+03\n",
      "1 : |xc-x_last| = 4.0147e-04 <= tolX*(1+|x0|) = 1.0141e-01\n",
      "0 : |proj(x-g)-x|    = 7.6521e+04 <= tolG          = 1.0000e-10\n",
      "0 : |proj(x-g)-x|    = 7.6521e+04 <= 1e3*eps       = 1.0000e-07\n",
      "0 : maxIter   =      20    <= iter          =     10\n",
      "------------------------- DONE! -------------------------\n"
     ]
    }
   ],
   "source": [
    "model, pred, save = app.run_inversion(\n",
    "    maxIter=20,\n",
    "    m0=1./1000.,\n",
    "    mref=1./1250.,\n",
    "    percentage=0,\n",
    "    floor=0.01,\n",
    "    chifact=1,\n",
    "    beta0_ratio=1e2,\n",
    "    coolingFactor=2,\n",
    "    n_iter_per_beta=1,\n",
    "    alpha_s=1/(app.mesh_prop.hx.min())**2 * 1e4,\n",
    "    alpha_x=1,\n",
    "    alpha_z=1,\n",
    "    use_target=True\n",
    ")"
   ]
  },
  {
   "cell_type": "markdown",
   "metadata": {},
   "source": [
    "### Step 3-2: Plot recovered model"
   ]
  },
  {
   "cell_type": "code",
   "execution_count": 5,
   "metadata": {},
   "outputs": [
    {
     "data": {
      "application/vnd.jupyter.widget-view+json": {
       "model_id": "a8e701e377184a47867d399376bb41a4",
       "version_major": 2,
       "version_minor": 0
      },
      "text/plain": [
       "interactive(children=(IntSlider(value=10, description='ii', max=10), Checkbox(value=False, description='fixed'…"
      ]
     },
     "metadata": {},
     "output_type": "display_data"
    }
   ],
   "source": [
    "app.interact_model_inversion(model, clim=None)"
   ]
  },
  {
   "cell_type": "code",
   "execution_count": 6,
   "metadata": {},
   "outputs": [
    {
     "data": {
      "text/plain": [
       "0.0025"
      ]
     },
     "execution_count": 6,
     "metadata": {},
     "output_type": "execute_result"
    }
   ],
   "source": [
    "1./20**2"
   ]
  },
  {
   "cell_type": "markdown",
   "metadata": {},
   "source": [
    "### Step 3-3: Plot predicted data "
   ]
  },
  {
   "cell_type": "code",
   "execution_count": 7,
   "metadata": {},
   "outputs": [
    {
     "data": {
      "application/vnd.jupyter.widget-view+json": {
       "model_id": "9dd0bd82d1a04b4ab4682404d7679191",
       "version_major": 2,
       "version_minor": 0
      },
      "text/plain": [
       "interactive(children=(IntSlider(value=10, continuous_update=False, description='ii', max=10), Checkbox(value=F…"
      ]
     },
     "metadata": {},
     "output_type": "display_data"
    }
   ],
   "source": [
    "app.interact_data_inversion(pred)"
   ]
  },
  {
   "cell_type": "markdown",
   "metadata": {},
   "source": [
    "### Step 3-4: Plot misfit curves"
   ]
  },
  {
   "cell_type": "code",
   "execution_count": 8,
   "metadata": {},
   "outputs": [
    {
     "data": {
      "image/png": "[encoded data removed]",
      "text/plain": [
       "<Figure size 360x144 with 2 Axes>"
      ]
     },
     "metadata": {
      "needs_background": "light"
     },
     "output_type": "display_data"
    }
   ],
   "source": [
    "save.plot_misfit_curves()"
   ]
  },
  {
   "cell_type": "code",
   "execution_count": null,
   "metadata": {},
   "outputs": [],
   "source": [
    "save.plot_tikhonov_curves()"
   ]
  }
 ],
 "metadata": {
  "kernelspec": {
   "display_name": "Python 3",
   "language": "python",
   "name": "python3"
  },
  "language_info": {
   "codemirror_mode": {
    "name": "ipython",
    "version": 3
   },
   "file_extension": ".py",
   "mimetype": "text/x-python",
   "name": "python",
   "nbconvert_exporter": "python",
   "pygments_lexer": "ipython3",
   "version": "3.7.4"
  }
 },
 "nbformat": 4,
 "nbformat_minor": 2
}
