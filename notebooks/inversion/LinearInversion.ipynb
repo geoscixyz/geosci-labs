{
 "cells": [
  {
   "cell_type": "code",
   "execution_count": 1,
   "metadata": {},
   "outputs": [],
   "source": [
    "from geoscilabs.inversion.LinearInversionDirect import LinearInversionDirectApp\n",
    "from ipywidgets import interact, FloatSlider, ToggleButtons, IntSlider, FloatText, IntText"
   ]
  },
  {
   "cell_type": "code",
   "execution_count": 2,
   "metadata": {},
   "outputs": [],
   "source": [
    "app = LinearInversionDirectApp()"
   ]
  },
  {
   "cell_type": "markdown",
   "metadata": {},
   "source": [
    "# Linear Inversion App\n",
    "\n",
    "This app is based upon the inversion tutorial: \"INVERSION FOR APPLIED GEOPHYSICS\" by Oldenburg and Li (2005).\n",
    "\n",
    "Douglas W. Oldenburg and Yaoguo Li (2005) 5. Inversion for Applied Geophysics: A Tutorial. Near-Surface Geophysics: pp. 89-150.\n",
    "eISBN: 978-1-56080-171-9 \n",
    "print ISBN: 978-1-56080-130-6 \n",
    "https://doi.org/10.1190/1.9781560801719.ch5 \n"
   ]
  },
  {
   "cell_type": "markdown",
   "metadata": {},
   "source": [
    "## Purpose\n",
    "By using a simple decaying and oscillating kernel function, which emulates physics of electromagnetic (EM) survey, we understand basic concepts of inverting EM data. Three main action items that we are going to explore are:\n",
    "\n",
    "- Step1: Generate a sensitivity kernel (or matrix), $\\mathbf{G}$\n",
    "- Step2: Set a model then Simulate data ($\\mathbf{d} = \\mathbf{G}\\mathbf{m}$)\n",
    "- Step3: Invert the data, and explore inversion results"
   ]
  },
  {
   "cell_type": "markdown",
   "metadata": {},
   "source": [
    "## Forward problem\n",
    "\n",
    "- why is j in exponential\n",
    "- plot g (so amplitude will be unity at x=0) (not rows of G)\n",
    "- why jk k=1..N;   this can be j  (jmin, jmax): N is the number of data ( N-1 increments between jmin and jmax)\n",
    "- j1=jmin; j2=jmax\n",
    "- allow for a negative p:  enter in a box\n",
    "- Rows of G:   $g_1$, $g_N$\n",
    "- vmin -->  ymin\n",
    "- scale on singular values \n",
    "\n",
    "In order to emulate EM data, which are often decaying and oscillating, we consider a kernel, $g_j(x)$, for $j$th datum. With a given model $m(x)$, $j$th datum can be computed by solving following integral equation:\n",
    "\n",
    " $$ d_j = \\int_a^{b} g_j(x) m(x) dx $$\n",
    "\n",
    "where \n",
    "\n",
    "$$ g_j(x) = e^{jpx} cos (2 \\pi jqx) $$ \n",
    "\n",
    "By discretizing $g_j(x)$ we obtain"
   ]
  },
  {
   "cell_type": "markdown",
   "metadata": {},
   "source": [
    "$$ \\mathbf{g}_j(\\mathbf{x}) = e^{jp\\mathbf{x}} cos (2 \\pi jq \\mathbf{x})$$\n",
    "\n",
    "where\n",
    "\n",
    "- $\\mathbf{g}_j$: $j$th row vector for the sensitivty matrix ($1 \\times M$)\n",
    "- $\\mathbf{x}$: model location ($1 \\times M$)\n",
    "- $j_k$: k=1, 2, ..., N\n",
    "- $p$: decaying constant (<0)\n",
    "- $q$: oscillating constant (>0)\n",
    "\n",
    "By stacking multiple rows of $\\mathbf{g}_j$, we obtain sensitivity matrix, $\\mathbf{G}$: \n",
    "\n",
    "\\begin{align}\n",
    "    \\mathbf{G} = \n",
    "    \\begin{bmatrix}\n",
    "        \\mathbf{g}_1\\\\\n",
    "        \\vdots\\\\\n",
    "        \\mathbf{g}_{N}\n",
    "    \\end{bmatrix}\n",
    "\\end{align}\n",
    "\n",
    "Here, the size of the matrix $\\mathbf{G}$ is $(N \\times M)$. \n",
    "Finally data, $\\mathbf{d}$, can be written as a linear equation:\n",
    "\n",
    "$$ \\mathbf{d} = \\mathbf{G}\\mathbf{m}$$\n",
    "\n",
    "where $\\mathbf{m}$ is an inversion model; this is a column vector ($M \\times 1$). \n",
    "\n",
    "In real measurments, there will be various noises source, and hence observation, $\\mathbf{d}^{obs}$, can be written as \n",
    "\n",
    "$$ \\mathbf{d}^{obs} = \\mathbf{G}\\mathbf{m} + \\mathbf{noise}$$"
   ]
  },
  {
   "cell_type": "markdown",
   "metadata": {},
   "source": [
    "##  Step1: Generate a sensitivity kernel (or matrix), $\\mathbf{G}$\n",
    "\n",
    "By using the following app, we explore each row vector of the sensitivity matrix, $\\mathbf{g}_j$. Parameters of the apps are:\n",
    "\n",
    "- M: # of model parameters\n",
    "- N: # of data\n",
    "- p: decaying constant (<0)\n",
    "- q: oscillating constant (>0)\n",
    "- ymin: maximum limit for y-axis\n",
    "- ymax: minimum limit for y-axis"
   ]
  },
  {
   "cell_type": "code",
   "execution_count": 3,
   "metadata": {},
   "outputs": [
    {
     "data": {
      "application/vnd.jupyter.widget-view+json": {
       "model_id": "bcb739902532486db3fdeb6cdf33ce55",
       "version_major": 2,
       "version_minor": 0
      },
      "text/plain": [
       "interactive(children=(IntSlider(value=20, continuous_update=False, description='N', min=1), IntSlider(value=10…"
      ]
     },
     "metadata": {},
     "output_type": "display_data"
    }
   ],
   "source": [
    "Q1 = app.interact_plot_G()"
   ]
  },
  {
   "cell_type": "markdown",
   "metadata": {},
   "source": [
    "## Step2: Generate a model and simulate data\n",
    "\n"
   ]
  },
  {
   "cell_type": "markdown",
   "metadata": {},
   "source": [
    "The model $m$ is a function defined on the interval (-2,2). Here we generate a model that is the sum of a: (a) background $m_{ref}$, (b) box car $m_1$ and (c) Gaussian $m_2$. The box car is defined by\n",
    "- m$_{background}$ : amplitude of the background\n",
    "- m1 : amplitude\n",
    "- $m1_{center}$ : center\n",
    "- $m1_{width}$ : width\n",
    "the Gaussian is defined by \n",
    "- m2 : amplitude\n",
    "- $m2_{center}$ : center\n",
    "- $m2_{sigma}$ : width of Gaussian (as defined by a standard deviation)\n",
    "\n",
    "The $j$th datum is the inner product of the $jth$ kernel $g_j(x)$ and the model $m(x)$. In discrete form it can be written as the dot product of the vector $g_j$ and the model vector $m$."
   ]
  },
  {
   "cell_type": "markdown",
   "metadata": {},
   "source": [
    "### $$ d_j = \\mathbf{g}_j \\mathbf{m} $$\n",
    "\n",
    "If there are $N$ number of data, these data can be written as a column vector, $\\mathbf{d}$:\n",
    "\n",
    "\\begin{align}\n",
    "    \\mathbf{d} = \\mathbf{G}\\mathbf{m} = \n",
    "    \\begin{bmatrix}\n",
    "        d_1\\\\\n",
    "        \\vdots\\\\\n",
    "        d_{N}\n",
    "    \\end{bmatrix}\n",
    "\\end{align}"
   ]
  },
  {
   "cell_type": "markdown",
   "metadata": {},
   "source": [
    "### Adding Noise\n",
    "\n",
    "Observational data are always contaminated with noise. Here we add Gaussian noise $N(0,\\epsilon)$ (zero mean and standard deviation $\\sigma$). Here we choose \n",
    "\n",
    "$$ \\epsilon = \\% |d| + \\text{floor} $$\n",
    "  "
   ]
  },
  {
   "cell_type": "code",
   "execution_count": 4,
   "metadata": {},
   "outputs": [
    {
     "data": {
      "application/vnd.jupyter.widget-view+json": {
       "model_id": "edb917e007c240c9872d11f68106514c",
       "version_major": 2,
       "version_minor": 0
      },
      "text/plain": [
       "interactive(children=(FloatSlider(value=0.0, continuous_update=False, description='m$_{background}$', max=2.0,…"
      ]
     },
     "metadata": {},
     "output_type": "display_data"
    }
   ],
   "source": [
    "Q2 = app.interact_plot_model()"
   ]
  },
  {
   "cell_type": "markdown",
   "metadata": {},
   "source": [
    "## Inverse Problem\n",
    "\n",
    "In the inverse problem we attempt to find the model $\\mathbf{m}$ that gave rise to the observational data $\\mathbf{d}^{obs}$. The inverse problem is formulated as an optimization problem: \n",
    "\n",
    "\n",
    "$$\\text{minimize} \\ \\ \\ \\phi(\\mathbf{m}) = \\phi_d(\\mathbf{m}) + \\beta \\phi_m(\\mathbf{m}) $$\n",
    "\n",
    "where \n",
    "\n",
    "- $\\phi_d$: data misfit\n",
    "- $\\phi_m$: model regularization\n",
    "- $\\beta$: trade-off (or Tikhonov) parameter  $0<\\beta<\\infty$\n",
    "\n",
    "Data misfit is defined as \n",
    "\n",
    "$$ \\phi_d = \\sum_{j=1}^{N}\\Big(\\frac{\\mathbf{g}_j\\mathbf{m}-d^{obs}_j}{\\epsilon_j}\\Big)^2$$\n",
    "\n",
    "where $\\epsilon_j$  is an estimate of the standard deviation of the $j$th datum.\n",
    "\n",
    "\n",
    "\n"
   ]
  },
  {
   "cell_type": "markdown",
   "metadata": {},
   "source": [
    "The model regularization term, $\\phi_m$, can be written as \n",
    "\n",
    "$$ \\phi_m(\\mathbf{m}) = \\alpha_s \\int (\\mathbf{m}-\\mathbf{m}_{ref}) dx + \\alpha_x \\int (\\frac{d \\mathbf{m}}{dx}) dx$$\n",
    "\n",
    "The first term is referred to as the \"smallness\" term. Minimizing this generates a model that is close to a reference model $m_{ref}$. The second term penalizes roughness of the model. It is generically referred to as a \"flattest\" or \"smoothness\" term.  "
   ]
  },
  {
   "cell_type": "markdown",
   "metadata": {},
   "source": [
    "## Step3: Invert the data, and explore inversion results\n",
    "\n"
   ]
  },
  {
   "cell_type": "markdown",
   "metadata": {},
   "source": [
    "In the inverse problem we define parameters needed to evaluate the data misfit and the model regularization terms. We then deal with parameters associated with the inversion.\n",
    "\n",
    "### Parameters\n",
    "\n",
    "- `mode`: `Run` or `Explore`\n",
    "    - `Run`: Each click of the app, will run `n_beta` times of inversion\n",
    "    - `Explore`: Not running inversions, but explore result of the inversions\n",
    "\n",
    "- `mref`: reference model\n",
    "\n",
    "- `percent`: percentage of the uncertainty (%)\n",
    "\n",
    "- `floor`: floor of the uncertainty (%)\n",
    "\n",
    "- `chifact`: chi factor for stopping criteria (when $\\phi_d^{\\ast}=N \\rightarrow$ `chifact=1`)\n",
    "\n",
    "- `data`: `obs/pred` or `misfit`\n",
    "    - `obs/pred`: show observed and predicted data\n",
    "    - `misfit`: show normalized misfit\n",
    "\n",
    "- `beta_min`: minimum $\\beta$\n",
    "\n",
    "- `beta_max`: maximum $\\beta$\n",
    "\n",
    "- `n_beta`: the number of $\\beta$\n",
    "\n",
    "- `alpha_s`: $\\alpha_s$ for smallness\n",
    "\n",
    "- `alpha_x`: $\\alpha_x$ for smoothness\n",
    "\n",
    "- `option`: `misfit` or `tikhonov`\n",
    "    - `misfit`: show $\\phi_d$ and $\\phi_m$ as a function of $\\beta$\n",
    "    - `tikhonov`: show tikhonov curve\n",
    "    \n",
    "- `i_beta`: i-th $\\beta$ value\n",
    "\n",
    "- `scale`: `linear` or `log`\n",
    "    - `linear`: linear scale for plotting the third panel\n",
    "    - `log`: log scale for plotting the third panel     "
   ]
  },
  {
   "cell_type": "code",
   "execution_count": 5,
   "metadata": {
    "scrolled": false
   },
   "outputs": [
    {
     "data": {
      "application/vnd.jupyter.widget-view+json": {
       "model_id": "118d7e71fabb49f284b2c2727d8861c3",
       "version_major": 2,
       "version_minor": 0
      },
      "text/plain": [
       "interactive(children=(RadioButtons(description='mode', options=('Run', 'Explore'), value='Run'), FloatSlider(v…"
      ]
     },
     "metadata": {},
     "output_type": "display_data"
    }
   ],
   "source": [
    "Q3 = app.interact_plot_inversion()"
   ]
  }
 ],
 "metadata": {
  "kernelspec": {
   "display_name": "Python 3",
   "language": "python",
   "name": "python3"
  },
  "language_info": {
   "codemirror_mode": {
    "name": "ipython",
    "version": 3
   },
   "file_extension": ".py",
   "mimetype": "text/x-python",
   "name": "python",
   "nbconvert_exporter": "python",
   "pygments_lexer": "ipython3",
   "version": "3.7.2"
  }
 },
 "nbformat": 4,
 "nbformat_minor": 2
}
