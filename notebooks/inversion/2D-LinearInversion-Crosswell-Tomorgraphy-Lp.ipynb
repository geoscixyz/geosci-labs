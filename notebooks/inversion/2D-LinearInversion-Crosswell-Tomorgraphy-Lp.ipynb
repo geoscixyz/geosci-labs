{
 "cells": [
  {
   "cell_type": "markdown",
   "metadata": {},
   "source": [
    "# 2D Linear Inversion of Crosswell Tomography Data with $l_p$ norms"
   ]
  },
  {
   "cell_type": "code",
   "execution_count": 1,
   "metadata": {},
   "outputs": [],
   "source": [
    "import numpy as np\n",
    "from geoscilabs.inversion.TomographyInversion import TomographyInversionApp\n",
    "import matplotlib.pyplot as plt\n",
    "from ipywidgets import interact, IntSlider\n",
    "%matplotlib inline\n",
    "app = TomographyInversionApp()"
   ]
  },
  {
   "cell_type": "markdown",
   "metadata": {},
   "source": [
    "# Purpose\n",
    "\n",
    "By using 2D croswell tomography example, here we focus our attention to learn important aspects of using $l_p$ norms for our inversion regularization. The workflow of the $l_p$ inversion includes two major steps:\n",
    "\n",
    "1. $l_2$ inversion (or smooth inversion) to find a solution\n",
    "2. Starting from there use $l_p$ norms to find a sparse solution "
   ]
  },
  {
   "cell_type": "markdown",
   "metadata": {},
   "source": [
    "# Background\n",
    "\n",
    "We introduce theoretical backgrounds of $l_p$ norm regularization. Two dimensional regularization function for our tomography problem can be written as \n",
    "\n",
    "#### $$\\phi_m = \\alpha_s \\int_v | f_j(m)|^{p_s} dv + \\alpha_x \\int_v | f_x(m)|^{p_x} dv + \\alpha_z \\int_v | f_z(m)|^{p_x} dv$$\n",
    "\n",
    "where $0\\leq p_j \\leq 2$, $f_s(m) = m$, $f_x(m) = \\frac{dm}{dx}$, $f_y(m) = \\frac{dm}{dy}$, and $f_z(m) = \\frac{dm}{dz}$. \n",
    "\n",
    "...\n"
   ]
  },
  {
   "cell_type": "markdown",
   "metadata": {},
   "source": [
    "# Outline\n",
    "This notebook includes four steps:\n",
    "- Step1: Generate a velocity model\n",
    "- Step2: Simulate traveltime data and add noise\n",
    "- Step3: Run $l_2$ inversion\n",
    "- Step4: Run $l_p$ inversion"
   ]
  },
  {
   "cell_type": "markdown",
   "metadata": {},
   "source": [
    "## Step1: Generate a velocity model\n",
    "\n",
    "Here we set up a velocity model using a following app. Controlling parameters of the app are:\n",
    "\n",
    "- `set mesh`: use active **only** when you want to change the 2D mesh\n",
    "- `add block`: use active when you want to add block (if not stay inactive)\n",
    "- `model type`: background or block\n",
    "- `show grid?`: show grid of the mesh\n",
    "\n",
    "- `v0`: velocity of the background\n",
    "- `v1`: velocity of the block\n",
    "- `xc`: x center of the block\n",
    "- `yc`: y center of the block\n",
    "- `dx`: width of the block\n",
    "- `dy`: thickness of the block\n",
    "- `nx`: # of cells in x-direction (this is only active when `set_mesh=active`)\n",
    "- `ny`: # of cells in y-direction (this is only active when `set_mesh=active`)\n",
    "\n",
    "### Changing # of cells in $x$- or $z$- direction\n",
    "Related parameters for this task are: `set mesh`, `nx`, `ny`. \n",
    "Size of the 2D domain are fixed to 200m $\\times$ 400m, but the number of cells in each direction can be changed such that you can alter size of the cells in each direction. When you change either `nx` or `ny` make sure you choose `set mesh=active` otherwise `set mesh=inactive`. Note that once mesh setup is changed, velocity model is reset to a background value (`v0`). \n",
    "\n",
    "### Changing a parameter of a single block\n",
    "Although you can change the location, size, and velocity of the block there are few rules that you need to follow to do so. \n",
    "\n",
    "1. If you want to change the parameter of the block: first set `add block=active` then change parameters of the block (`v1`, `xc`, `zc`, `dx`, `dy`)\n",
    "\n",
    "2. Once you changed the parameters, make sure first choose `model type=background` then change that to `model type=block`\n",
    "\n",
    "### Adding more blocks\n",
    "You can also add multiple blocks. To add a block follow below steps:\n",
    "\n",
    "1. Set `add block=inactive`, then change the parameter of the new block using: `v1`, `xc`, `zc`, `dx`, `dy`. Velocity model will not change, but you can see the white lines which illustrate boundary of the new block.\n",
    "\n",
    "2. Once you are happy with the new block, set `add block=active`, then velocity model will be updated with the new block that you have set. \n",
    "\n",
    "3. Repeat 1 and 2 if you want to add more blocks. \n"
   ]
  },
  {
   "cell_type": "code",
   "execution_count": 2,
   "metadata": {},
   "outputs": [
    {
     "data": {
      "application/vnd.jupyter.widget-view+json": {
       "model_id": "79ffb425a78348d89b271e94fa9a2309",
       "version_major": 2,
       "version_minor": 0
      },
      "text/plain": [
       "HBox(children=(VBox(children=(FloatSlider(value=1000.0, continuous_update=False, description='v0', max=3000.0,…"
      ]
     },
     "metadata": {},
     "output_type": "display_data"
    }
   ],
   "source": [
    "app.interact_plot_model()"
   ]
  },
  {
   "cell_type": "markdown",
   "metadata": {},
   "source": [
    "## Step2: Simulate travel time data and add noise"
   ]
  },
  {
   "cell_type": "code",
   "execution_count": 3,
   "metadata": {},
   "outputs": [
    {
     "data": {
      "application/vnd.jupyter.widget-view+json": {
       "model_id": "37cd655b49bd4a63a9dd9e95f8600e37",
       "version_major": 2,
       "version_minor": 0
      },
      "text/plain": [
       "HBox(children=(Output(), Box(children=(Box(children=(BoundedFloatText(value=0.0, description='percent ($\\\\%$):…"
      ]
     },
     "metadata": {},
     "output_type": "display_data"
    }
   ],
   "source": [
    "app.interact_data()"
   ]
  },
  {
   "cell_type": "markdown",
   "metadata": {},
   "source": [
    "## Step3: $l_2$ (smooth) inversion\n",
    "\n",
    "- `maxIter`: maximum number of iteration\n",
    "- `m0`: initial model\n",
    "- `mref`: reference model\n",
    "- `percentage`: percent standard deviation for the uncertainty\n",
    "- `floor`: floor value for the uncertainty\n",
    "- `chifact`: chifactor for the target misfit\n",
    "- `beta0_ratio`: ratio to set the initial beta\n",
    "- `coolingFactor`: cooling factor to cool beta\n",
    "- `n_iter_per_beta`: # of interation for each beta value \n",
    "- `alpha_s`: $\\alpha_s$\n",
    "- `alpha_x`: $\\alpha_x$\n",
    "- `alpha_z`: $\\alpha_z$\n",
    "- `use_target`: use target misfit as a stopping criteria or not\n",
    "- `use_tikhonov`: use `Tikhonov` regularization module or `Sparse`\n",
    "- `use_irls`: use `IRLS` module (`use_tikhonov must be False` when you want to use `IRLS`)"
   ]
  },
  {
   "cell_type": "markdown",
   "metadata": {},
   "source": [
    "### Step 3-1: Run inversion"
   ]
  },
  {
   "cell_type": "code",
   "execution_count": 4,
   "metadata": {},
   "outputs": [
    {
     "name": "stdout",
     "output_type": "stream",
     "text": [
      "SimPEG.DataMisfit.l2_DataMisfit assigning default std of 5%\n",
      "SimPEG.DataMisfit.l2_DataMisfit assigning default eps of 1e-5 * ||dobs||\n",
      "\n",
      "    SimPEG.InvProblem is setting bfgsH0 to the inverse of the eval2Deriv.\n",
      "    ***Done using same Solver and solverOpts as the problem***\n",
      "SimPEG.SaveOutputEveryIteration will save your inversion progress as: '###-InversionModel-2019-04-02-15-52.txt'\n",
      "model has any nan: 0\n",
      "=============================== Projected GNCG ===============================\n",
      "  #     beta     phi_d     phi_m       f      |proj(x-g)-x|  LS    Comment   \n",
      "-----------------------------------------------------------------------------\n",
      "x0 has any nan: 0\n",
      "   0  3.00e+07  3.40e+02  0.00e+00  3.40e+02    1.12e+04      0              \n",
      "   1  1.50e+07  3.25e+02  2.43e-07  3.29e+02    5.93e+03      0              \n",
      "   2  7.51e+06  3.12e+02  9.17e-07  3.19e+02    6.26e+03      0   Skip BFGS  \n",
      "   3  3.76e+06  2.88e+02  3.28e-06  3.00e+02    6.92e+03      0   Skip BFGS  \n",
      "   4  1.88e+06  2.50e+02  1.07e-05  2.70e+02    8.18e+03      0   Skip BFGS  \n",
      "   5  9.39e+05  2.00e+02  3.00e-05  2.29e+02    1.04e+04      0   Skip BFGS  \n",
      "   6  4.69e+05  1.48e+02  7.04e-05  1.81e+02    1.34e+04      0   Skip BFGS  \n",
      "   7  2.35e+05  1.03e+02  1.37e-04  1.36e+02    1.59e+04      0   Skip BFGS  \n",
      "   8  1.17e+05  7.14e+01  2.33e-04  9.88e+01    1.64e+04      0   Skip BFGS  \n",
      "------------------------- STOP! -------------------------\n",
      "1 : |fc-fOld| = 0.0000e+00 <= tolF*(1+|f0|) = 3.4119e+01\n",
      "1 : |xc-x_last| = 2.3439e-04 <= tolX*(1+|x0|) = 1.0141e-01\n",
      "0 : |proj(x-g)-x|    = 1.6365e+04 <= tolG          = 1.0000e-10\n",
      "0 : |proj(x-g)-x|    = 1.6365e+04 <= 1e3*eps       = 1.0000e-07\n",
      "0 : maxIter   =      20    <= iter          =      9\n",
      "------------------------- DONE! -------------------------\n"
     ]
    }
   ],
   "source": [
    "model, pred, save = app.run_inversion(\n",
    "    maxIter=20,\n",
    "    m0=1./1000.,\n",
    "    mref=1./1000.,\n",
    "    percentage=0,\n",
    "    floor=0.01,\n",
    "    chifact=1,\n",
    "    beta0_ratio=1e2,\n",
    "    coolingFactor=2,\n",
    "    n_iter_per_beta=1,\n",
    "    alpha_s=1e0,\n",
    "    alpha_x=1e0,\n",
    "    alpha_z=1e0,\n",
    "    use_target=True,\n",
    "    use_tikhonov=False,\n",
    "    use_irls=False,\n",
    ")"
   ]
  },
  {
   "cell_type": "markdown",
   "metadata": {},
   "source": [
    "### Step 3-2: Plot recovered model"
   ]
  },
  {
   "cell_type": "code",
   "execution_count": 5,
   "metadata": {},
   "outputs": [
    {
     "data": {
      "application/vnd.jupyter.widget-view+json": {
       "model_id": "1a5bad89217f4d74b2444de5864fcba9",
       "version_major": 2,
       "version_minor": 0
      },
      "text/plain": [
       "interactive(children=(IntSlider(value=9, description='ii', max=9), Checkbox(value=False, description='fixed'),…"
      ]
     },
     "metadata": {},
     "output_type": "display_data"
    }
   ],
   "source": [
    "app.interact_model_inversion(model)"
   ]
  },
  {
   "cell_type": "markdown",
   "metadata": {},
   "source": [
    "### Step 3-3: Plot predicted data "
   ]
  },
  {
   "cell_type": "code",
   "execution_count": 6,
   "metadata": {},
   "outputs": [
    {
     "data": {
      "application/vnd.jupyter.widget-view+json": {
       "model_id": "92e3ee238f4b4ceead1d71cf91768f6b",
       "version_major": 2,
       "version_minor": 0
      },
      "text/plain": [
       "interactive(children=(IntSlider(value=9, continuous_update=False, description='ii', max=9), Checkbox(value=Fal…"
      ]
     },
     "metadata": {},
     "output_type": "display_data"
    }
   ],
   "source": [
    "app.interact_data_inversion(pred)"
   ]
  },
  {
   "cell_type": "markdown",
   "metadata": {},
   "source": [
    "### Step 3-4: Plot misfit curves"
   ]
  },
  {
   "cell_type": "code",
   "execution_count": 7,
   "metadata": {},
   "outputs": [
    {
     "data": {
      "image/png": "[encoded data removed]",
      "text/plain": [
       "<Figure size 360x144 with 2 Axes>"
      ]
     },
     "metadata": {
      "needs_background": "light"
     },
     "output_type": "display_data"
    }
   ],
   "source": [
    "save.plot_misfit_curves()"
   ]
  },
  {
   "cell_type": "code",
   "execution_count": 8,
   "metadata": {},
   "outputs": [
    {
     "data": {
      "image/png": "[encoded data removed]",
      "text/plain": [
       "<Figure size 360x576 with 3 Axes>"
      ]
     },
     "metadata": {
      "needs_background": "light"
     },
     "output_type": "display_data"
    }
   ],
   "source": [
    "save.plot_tikhonov_curves()"
   ]
  },
  {
   "cell_type": "markdown",
   "metadata": {},
   "source": [
    "## Step4: Lp-Lq inversion\n",
    "\n",
    "- `maxIter`: maximum number of iteration\n",
    "- `m0`: initial model\n",
    "- `mref`: reference model\n",
    "- `percentage`: percent standard deviation for the uncertainty\n",
    "- `floor`: floor value for the uncertainty\n",
    "- `chifact`: chifactor for the target misfit\n",
    "- `coolingFactor`: cooling factor to cool beta\n",
    "- `coolingRate`: cooling rate to cool beta\n",
    "- `alpha_s`: $\\alpha_s$\n",
    "- `alpha_x`: $\\alpha_x$\n",
    "- `alpha_z`: $\\alpha_z$\n",
    "- `use_tikhonov`: use `Tikhonov` regularization module or `Sparse`\n",
    "- `use_irls`: use `IRLS` module (`use_tikhonov must be False` when you want to use `IRLS`)\n",
    "- `p_s`: norm for the smallness\n",
    "- `p_x`: norm for the smoothness in x-direction\n",
    "- `p_z`: norm for the smoothness in z-direction\n",
    "- `beta_start`: starting beta"
   ]
  },
  {
   "cell_type": "markdown",
   "metadata": {},
   "source": [
    "### Step 4-1: Run inversion"
   ]
  },
  {
   "cell_type": "code",
   "execution_count": 13,
   "metadata": {},
   "outputs": [
    {
     "name": "stdout",
     "output_type": "stream",
     "text": [
      "SimPEG.DataMisfit.l2_DataMisfit assigning default std of 5%\n",
      "SimPEG.DataMisfit.l2_DataMisfit assigning default eps of 1e-5 * ||dobs||\n",
      "\n",
      "    SimPEG.InvProblem is setting bfgsH0 to the inverse of the eval2Deriv.\n",
      "    ***Done using same Solver and solverOpts as the problem***\n",
      "SimPEG.SaveOutputEveryIteration will save your inversion progress as: '###-InversionModel-2019-04-02-15-55.txt'\n",
      "model has any nan: 0\n",
      "=============================== Projected GNCG ===============================\n",
      "  #     beta     phi_d     phi_m       f      |proj(x-g)-x|  LS    Comment   \n",
      "-----------------------------------------------------------------------------\n",
      "x0 has any nan: 0\n",
      "   0  1.10e+05  4.98e+01  3.63e-04  8.98e+01    1.84e+03      0              \n",
      "Reached starting chifact with l2-norm regularization: Start IRLS steps...\n",
      "eps_p: 0.00031582460129624254 eps_q: 0.00031582460129624254\n",
      "delta phim: 0.000e+00\n",
      "   1  5.50e+04  4.82e+01  5.55e-04  7.88e+01    1.31e+04      0              \n",
      "delta phim: 7.847e+06\n",
      "   2  5.50e+04  3.88e+01  7.88e-04  8.21e+01    2.03e+04      0              \n",
      "delta phim: 3.130e-01\n",
      "   3  5.50e+04  4.13e+01  7.65e-04  8.34e+01    1.61e+04      0              \n",
      "delta phim: 1.198e-01\n",
      "   4  5.50e+04  4.26e+01  7.46e-04  8.37e+01    1.64e+04      0   Skip BFGS  \n",
      "delta phim: 1.232e-01\n",
      "   5  5.50e+04  4.33e+01  7.13e-04  8.25e+01    1.74e+04      0              \n",
      "delta phim: 1.000e-01\n",
      "   6  5.50e+04  4.46e+01  6.75e-04  8.17e+01    1.60e+04      0              \n",
      "delta phim: 9.723e-02\n",
      "   7  5.50e+04  4.55e+01  6.33e-04  8.03e+01    1.54e+04      0              \n",
      "delta phim: 1.112e-01\n",
      "   8  5.50e+04  4.61e+01  5.99e-04  7.91e+01    1.53e+04      0              \n",
      "delta phim: 1.103e-01\n",
      "   9  5.50e+04  4.65e+01  5.73e-04  7.80e+01    1.58e+04      0              \n",
      "delta phim: 1.082e-01\n",
      "  10  5.50e+04  4.68e+01  5.51e-04  7.71e+01    1.62e+04      0              \n",
      "delta phim: 1.030e-01\n",
      "  11  5.50e+04  4.71e+01  5.33e-04  7.64e+01    1.68e+04      0   Skip BFGS  \n",
      "delta phim: 9.740e-02\n",
      "  12  5.50e+04  4.74e+01  5.17e-04  7.58e+01    1.73e+04      0   Skip BFGS  \n",
      "delta phim: 8.904e-02\n",
      "  13  5.50e+04  4.76e+01  5.04e-04  7.53e+01    1.78e+04      0   Skip BFGS  \n",
      "delta phim: 7.956e-02\n",
      "  14  5.50e+04  4.77e+01  4.92e-04  7.48e+01    1.85e+04      0   Skip BFGS  \n",
      "delta phim: 7.016e-02\n",
      "  15  5.50e+04  4.77e+01  4.82e-04  7.43e+01    1.92e+04      0   Skip BFGS  \n",
      "delta phim: 5.960e-02\n",
      "  16  5.50e+04  4.77e+01  4.74e-04  7.38e+01    1.98e+04      0              \n",
      "delta phim: 4.838e-02\n",
      "  17  5.50e+04  4.76e+01  4.67e-04  7.33e+01    2.04e+04      0              \n",
      "delta phim: 3.778e-02\n",
      "  18  5.50e+04  4.75e+01  4.64e-04  7.30e+01    2.15e+04      0   Skip BFGS  \n",
      "delta phim: 4.229e-02\n",
      "  19  5.50e+04  4.75e+01  4.62e-04  7.29e+01    2.22e+04      0   Skip BFGS  \n",
      "delta phim: 3.776e-02\n",
      "  20  5.50e+04  4.75e+01  4.61e-04  7.29e+01    2.26e+04      0   Skip BFGS  \n",
      "delta phim: 3.632e-02\n",
      "  21  5.50e+04  4.76e+01  4.60e-04  7.28e+01    2.28e+04      0   Skip BFGS  \n",
      "delta phim: 3.619e-02\n",
      "  22  5.50e+04  4.76e+01  4.58e-04  7.28e+01    2.31e+04      0   Skip BFGS  \n",
      "delta phim: 3.690e-02\n",
      "  23  5.50e+04  4.76e+01  4.58e-04  7.27e+01    2.34e+04      0              \n",
      "delta phim: 3.739e-02\n",
      "  24  5.50e+04  4.69e+01  4.70e-04  7.27e+01    3.02e+04      0              \n",
      "delta phim: 6.374e-03\n",
      "  25  5.50e+04  4.55e+01  4.90e-04  7.24e+01    3.07e+04      0   Skip BFGS  \n",
      "delta phim: 2.782e-02\n",
      "  26  5.50e+04  4.50e+01  4.97e-04  7.23e+01    2.69e+04      0   Skip BFGS  \n",
      "delta phim: 2.708e-02\n",
      "  27  5.50e+04  4.48e+01  5.02e-04  7.24e+01    2.42e+04      0   Skip BFGS  \n",
      "delta phim: 3.127e-02\n",
      "  28  5.50e+04  4.46e+01  5.05e-04  7.24e+01    2.34e+04      0   Skip BFGS  \n",
      "delta phim: 1.537e-02\n",
      "  29  5.50e+04  4.45e+01  5.08e-04  7.24e+01    2.26e+04      0   Skip BFGS  \n",
      "delta phim: 1.048e-02\n",
      "  30  5.50e+04  4.44e+01  5.10e-04  7.24e+01    2.30e+04      0   Skip BFGS  \n",
      "------------------------- STOP! -------------------------\n",
      "1 : |fc-fOld| = 2.1442e-02 <= tolF*(1+|f0|) = 9.0767e+00\n",
      "1 : |xc-x_last| = 7.2095e-06 <= tolX*(1+|x0|) = 1.0136e-01\n",
      "0 : |proj(x-g)-x|    = 2.2993e+04 <= tolG          = 1.0000e-10\n",
      "0 : |proj(x-g)-x|    = 2.2993e+04 <= 1e3*eps       = 1.0000e-07\n",
      "1 : maxIter   =      30    <= iter          =     30\n",
      "------------------------- DONE! -------------------------\n"
     ]
    }
   ],
   "source": [
    "model_lplq, pred_lplq, save_lplq = app.run_inversion(\n",
    "    maxIter=30,\n",
    "    m0=model[-1],\n",
    "    mref=1./1000.,\n",
    "    percentage=0.,\n",
    "    floor=0.01,\n",
    "    chifact=1,\n",
    "    coolingFactor=2,\n",
    "    n_iter_per_beta=1,\n",
    "    alpha_s=1e0,\n",
    "    alpha_x=1e0,\n",
    "    alpha_z=1e0,\n",
    "    use_irls=True,\n",
    "    use_tikhonov=False,\n",
    "    p_s=0,\n",
    "    p_x=1,\n",
    "    p_z=1,\n",
    "    beta_start=1.1e5\n",
    ")"
   ]
  },
  {
   "cell_type": "markdown",
   "metadata": {},
   "source": [
    "### Step 4-2: Plot recovered model"
   ]
  },
  {
   "cell_type": "code",
   "execution_count": 14,
   "metadata": {},
   "outputs": [
    {
     "data": {
      "application/vnd.jupyter.widget-view+json": {
       "model_id": "5519608e03da4650817ab231cfb90ce3",
       "version_major": 2,
       "version_minor": 0
      },
      "text/plain": [
       "interactive(children=(IntSlider(value=30, description='ii', max=30), Checkbox(value=False, description='fixed'…"
      ]
     },
     "metadata": {},
     "output_type": "display_data"
    }
   ],
   "source": [
    "app.interact_model_inversion(model_lplq)"
   ]
  },
  {
   "cell_type": "markdown",
   "metadata": {},
   "source": [
    "### Step 4-3: Plot predicted data"
   ]
  },
  {
   "cell_type": "code",
   "execution_count": 11,
   "metadata": {},
   "outputs": [
    {
     "data": {
      "application/vnd.jupyter.widget-view+json": {
       "model_id": "4d6d321d7cee42dcbeee2fa2b2abe813",
       "version_major": 2,
       "version_minor": 0
      },
      "text/plain": [
       "interactive(children=(IntSlider(value=30, continuous_update=False, description='ii', max=30), Checkbox(value=F…"
      ]
     },
     "metadata": {},
     "output_type": "display_data"
    }
   ],
   "source": [
    "app.interact_data_inversion(pred_lplq)"
   ]
  },
  {
   "cell_type": "markdown",
   "metadata": {},
   "source": [
    "### Step 4-4: Plot misfit curves"
   ]
  },
  {
   "cell_type": "code",
   "execution_count": 12,
   "metadata": {},
   "outputs": [
    {
     "data": {
      "image/png": "[encoded data removed]",
      "text/plain": [
       "<Figure size 360x144 with 2 Axes>"
      ]
     },
     "metadata": {
      "needs_background": "light"
     },
     "output_type": "display_data"
    }
   ],
   "source": [
    "save_lplq.plot_misfit_curves()"
   ]
  },
  {
   "cell_type": "code",
   "execution_count": 13,
   "metadata": {},
   "outputs": [],
   "source": [
    "# save_lplq.plot_tikhonov_curves()"
   ]
  }
 ],
 "metadata": {
  "kernelspec": {
   "display_name": "Python 3",
   "language": "python",
   "name": "python3"
  },
  "language_info": {
   "codemirror_mode": {
    "name": "ipython",
    "version": 3
   },
   "file_extension": ".py",
   "mimetype": "text/x-python",
   "name": "python",
   "nbconvert_exporter": "python",
   "pygments_lexer": "ipython3",
   "version": "3.7.2"
  }
 },
 "nbformat": 4,
 "nbformat_minor": 2
}
