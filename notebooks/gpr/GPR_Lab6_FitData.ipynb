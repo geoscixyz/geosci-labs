{
 "cells": [
  {
   "cell_type": "markdown",
   "metadata": {},
   "source": [
    "# Ground Penetrating Radar Lab 6 Notebook"
   ]
  },
  {
   "cell_type": "markdown",
   "metadata": {},
   "source": [
    "This notebook contains two apps, which are used to complete **part 3** in GPR Lab 6:\n",
    "\n",
    "+ **Pipe Fitting App**: This app simulates the radargram signature from a cylindrical pipe and lays it over a set of field collected data.\n",
    "+ **Slab Fitting App**: This app simulates the radargram signature from a rectangular slab and lays it over a set of field collected data.\n",
    "\n",
    "By using the models provided (pipe/slab) to fit data signatures within field collected radargram data, we can determine the existence, location and dimensions of pipes and slabs. You may also use this app to learn how radargram signatures from pipes and rectangular slabs change as the parameters provided are altered."
   ]
  },
  {
   "cell_type": "markdown",
   "metadata": {},
   "source": [
    "## Importing Packages"
   ]
  },
  {
   "cell_type": "code",
   "execution_count": 1,
   "metadata": {},
   "outputs": [],
   "source": [
    "%matplotlib inline\n",
    "from geoscilabs.gpr.GPRlab1 import downloadRadargramImage, PipeWidget, WallWidget\n",
    "from SimPEG.utils import download"
   ]
  },
  {
   "cell_type": "markdown",
   "metadata": {},
   "source": [
    "## Pipe Fitting App\n",
    "\n",
    "<img style=\"float: right; width: 500px\" src=\"https://github.com/geoscixyz/geosci-labs/blob/master/images/gpr/pipemodel.png?raw=true\">\n",
    "\n",
    "In the context of the lab exercise (Interpretation of Field Data), it is known that several pipes are likely buried below the GPR acquisition line. Unfortunately, we do no know the location or dimensions of the pipes. Here, you will attempt to fit radargram signatures corresponding to pipe-shaped objects. Parameters which provide the best fit can be used to infer characteristics of buried pipes.\n",
    "\n",
    "### Parameters for the App:\n",
    "\n",
    "+ **epsr:** Relative permittivity of the background medium\n",
    "+ **h:** Distance from center of the pipe to the surface\n",
    "+ **xc:** Horizontal location of the pipe center\n",
    "+ **r:** radius of the pipe"
   ]
  },
  {
   "cell_type": "code",
   "execution_count": 2,
   "metadata": {},
   "outputs": [
    {
     "data": {
      "application/vnd.jupyter.widget-view+json": {
       "model_id": "79f0a05a40b74cf9aa2e8d0a0ae2b010",
       "version_major": 2,
       "version_minor": 0
      },
      "text/plain": [
       "interactive(children=(IntSlider(value=50, description='epsr'), FloatSlider(value=1.0, description='h', max=2.0…"
      ]
     },
     "metadata": {},
     "output_type": "display_data"
    },
    {
     "data": {
      "text/plain": [
       "<function geoscilabs.gpr.GPRlab1.PipeWidgetFcn(epsr, h, xc, r, imgcmp)>"
      ]
     },
     "execution_count": 2,
     "metadata": {},
     "output_type": "execute_result"
    }
   ],
   "source": [
    "URL = \"http://github.com/geoscixyz/geosci-labs/raw/master/images/gpr/ubc_GPRdata.png\"\n",
    "radargramImage = downloadRadargramImage(URL)\n",
    "PipeWidget(radargramImage)"
   ]
  },
  {
   "cell_type": "markdown",
   "metadata": {},
   "source": [
    "## Slab Fitting App\n",
    "\n",
    "<img style=\"float: right; width: 500px\" src=\"https://github.com/geoscixyz/geosci-labs/blob/master/images/gpr/slabmodel.png?raw=true\">\n",
    "\n",
    "In the context of the lab exercise (Interpretation of Field Data), it is known that a concrete casing is buried below the GPR acquisition line. Unfortunately, we do no know the location or depth of the casing. Here, you will attempt to fit radargram signatures corresponding to the casing using a rectangular slab model. Parameters which provide the best fit can be used to infer information about the casing.\n",
    "\n",
    "### Parameters for the App:\n",
    "\n",
    "+ **epsr:** Relative permittivity of the background medium\n",
    "+ **h:** Distance from center of the pipe to the surface\n",
    "+ **x1:** Horizontal location of left boundary of the concrete casing model\n",
    "+ **x2:** Horizontal location of horizontal location of right boundary of the concrete casing modelradius of the pipe"
   ]
  },
  {
   "cell_type": "code",
   "execution_count": 3,
   "metadata": {
    "scrolled": false
   },
   "outputs": [
    {
     "data": {
      "application/vnd.jupyter.widget-view+json": {
       "model_id": "706cd57212544c7283fd56a2cff002b4",
       "version_major": 2,
       "version_minor": 0
      },
      "text/plain": [
       "interactive(children=(IntSlider(value=50, description='epsr'), FloatSlider(value=1.0, description='h', max=2.0…"
      ]
     },
     "metadata": {},
     "output_type": "display_data"
    },
    {
     "data": {
      "text/plain": [
       "<function geoscilabs.gpr.GPRlab1.WallWidgetFcn(epsr, h, x1, x2, imgcmp)>"
      ]
     },
     "execution_count": 3,
     "metadata": {},
     "output_type": "execute_result"
    }
   ],
   "source": [
    "URL = \"http://github.com/geoscixyz/geosci-labs/raw/master/images/gpr/ubc_GPRdata.png\"\n",
    "radargramImage = downloadRadargramImage(URL)\n",
    "WallWidget(radargramImage)"
   ]
  },
  {
   "cell_type": "code",
   "execution_count": null,
   "metadata": {},
   "outputs": [],
   "source": []
  }
 ],
 "metadata": {
  "anaconda-cloud": {},
  "kernelspec": {
   "display_name": "Python 3",
   "language": "python",
   "name": "python3"
  },
  "language_info": {
   "codemirror_mode": {
    "name": "ipython",
    "version": 3
   },
   "file_extension": ".py",
   "mimetype": "text/x-python",
   "name": "python",
   "nbconvert_exporter": "python",
   "pygments_lexer": "ipython3",
   "version": "3.7.4"
  },
  "widgets": {
   "state": {
    "50cfd9e25142477285f01ec37e34f3b3": {
     "views": [
      {
       "cell_index": 20
      }
     ]
    },
    "70e5d1caabdd46dfb366d65b13393657": {
     "views": [
      {
       "cell_index": 16
      }
     ]
    },
    "92c87604cdcd48fdb4eaa9ed3579a14f": {
     "views": [
      {
       "cell_index": 7
      }
     ]
    },
    "ae5794be77dd4b3c958003dc8bf3f9cc": {
     "views": [
      {
       "cell_index": 10
      }
     ]
    }
   },
   "version": "1.2.0"
  }
 },
 "nbformat": 4,
 "nbformat_minor": 1
}
