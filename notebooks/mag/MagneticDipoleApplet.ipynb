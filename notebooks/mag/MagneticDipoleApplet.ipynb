{
 "cells": [
  {
   "cell_type": "markdown",
   "metadata": {},
   "source": [
    "This is the <a href=\"https://jupyter.org/\">Jupyter Notebook</a>, an interactive coding and computation environment. For this lab, you do not have to write any code, you will only be running it. \n",
    "\n",
    "To use the notebook:\n",
    "- \"Shift + Enter\" runs the code within the cell (so does the forward arrow button near the top of the document)\n",
    "- You can alter variables and re-run cells\n",
    "- If you want to start with a clean slate, restart the Kernel either by going to the top, clicking on Kernel: Restart, or by \"esc + 00\" (if you do this, you will need to re-run the following block of code before running any other cells in the notebook) "
   ]
  },
  {
   "cell_type": "code",
   "execution_count": 1,
   "metadata": {},
   "outputs": [],
   "source": [
    "from geoscilabs.mag.MagDipoleApp import MagneticDipoleApp"
   ]
  },
  {
   "cell_type": "markdown",
   "metadata": {},
   "source": [
    "# Magnetic Dipole Applet\n",
    "\n"
   ]
  },
  {
   "cell_type": "markdown",
   "metadata": {},
   "source": [
    "## Purpose\n",
    "\n",
    "The objective is to learn about the magnetic field observed at the ground's surface, caused by a small buried dipolar magnet. In geophysics, this simulates the observed anomaly over a buried susceptible sphere that is magnetized by the Earth's magnetic field.\n",
    "\n",
    "## What is shown\n",
    "\n",
    "- <b>The colour map</b> shows the strength of the chosen parameter (Bt, Bx, By, Bz, or Bg) as a function of position.\n",
    "\n",
    "- Imagine doing a two dimensional survey over a susceptible sphere that has been magentized by the Earth's magnetic field specified by inclination and declination.  \"Measurement\" location is the centre of each coloured box. This is a simple (but easily programmable) alternative to generating a smooth contour map.\n",
    "\n",
    "- The anomaly depends upon magnetic latitude, direction of the inducing (Earth's) field, the depth of the buried dipole, and the magnetic moment of the buried dipole.\n",
    "\n",
    "\n",
    "## Important Notes:\n",
    "\n",
    "- <b>Inclination (I)</b> and <b>declination (D)</b> describe the orientation of the Earth's ambient field at the centre of the survey area. Positive inclination implies you are in the northern hemisphere, and positive declination implies that magnetic north is to the east of geographic north.\n",
    "\n",
    "- The <b>\"length\"</b> adjuster changes the size of the square survey area. The default of 72 means the survey square is 72 metres on a side.\n",
    "\n",
    "- The <b>\"data spacing\"</b> adjuster changes the distance between measurements. The default of 1 means measurements were acquired over the survey square on a 2-metre grid. In other words, \"data spacing = 2\" means each coloured box is 2 m square.\n",
    "\n",
    "- The <b>\"depth\"</b> adjuster changes the depth (in metres) to the centre of the buried dipole.\n",
    "\n",
    "- The <b>\"magnetic moment (M)\"</b> adjuster changes the strength of the induced field. Units are Am2.  This is related to the strength of the inducing field, the susceptibility of the buried sphere, and the volume of susceptible material.\n",
    "- <b>Bt, Bg, Bx, By, Bz</b> are Total field, X-component (positive northwards), Y-component (positive eastwards), and Z-component (positive down) of the anomaly field respectively.\n",
    "\n",
    "- Checking the <b>fixed scale</b> button fixes the colour scale so that the end points of the colour scale are minimum and maximum values for the current data set.\n",
    "\n",
    "- You can generate a <b>profile</b> along either \"East\" or \"North\" direction\n",
    "\n",
    "- Check <b>half width</b> to see the half width of the anomaly. Anomaly width is noted on the botton of the graph.\n",
    "\n",
    "- Measurements are taken 1m above the surface.\n",
    "\n",
    "- For gradient data (<b>Bg</b>), measurements are taken at 1m and 2m\n",
    "\n",
    "- Note that magnetic moment (M) for monopole is equal to the charge (Q): "
   ]
  },
  {
   "cell_type": "code",
   "execution_count": 2,
   "metadata": {},
   "outputs": [
    {
     "data": {
      "application/vnd.jupyter.widget-view+json": {
       "model_id": "71427c00e2424d3ba56892f8d651489a",
       "version_major": 2,
       "version_minor": 0
      },
      "text/plain": [
       "HBox(children=(VBox(children=(RadioButtons(description='field', options=('Bt', 'Bx', 'By', 'Bz', 'Bg'), value=…"
      ]
     },
     "metadata": {},
     "output_type": "display_data"
    }
   ],
   "source": [
    "mag = MagneticDipoleApp()\n",
    "mag.interact_plot_model_dipole()"
   ]
  },
  {
   "cell_type": "markdown",
   "metadata": {},
   "source": [
    "## Two monopoles (pseudo dipole)\n",
    "\n",
    "Different from the previous app, here we focus on a situtation where we have to monopoles having negative\n",
    "and postive signs. Their horizontal location: (X, Y) are same, but depths are different. By default depth of the negative pole, <b>depth$_{-Q}$ </b>, is located 0m and that of the positive pole, <b>depth$_{-Q}$ </b>, is 10m. "
   ]
  },
  {
   "cell_type": "code",
   "execution_count": 3,
   "metadata": {},
   "outputs": [
    {
     "data": {
      "application/vnd.jupyter.widget-view+json": {
       "model_id": "3680dc58b2274490bdce7d5f556f5bf8",
       "version_major": 2,
       "version_minor": 0
      },
      "text/plain": [
       "HBox(children=(VBox(children=(RadioButtons(description='field', options=('Bt', 'Bx', 'By', 'Bz', 'Bg'), value=…"
      ]
     },
     "metadata": {},
     "output_type": "display_data"
    }
   ],
   "source": [
    "mag.interact_plot_model_two_monopole()"
   ]
  },
  {
   "cell_type": "code",
   "execution_count": null,
   "metadata": {},
   "outputs": [],
   "source": []
  }
 ],
 "metadata": {
  "kernelspec": {
   "display_name": "Python 3",
   "language": "python",
   "name": "python3"
  },
  "language_info": {
   "codemirror_mode": {
    "name": "ipython",
    "version": 3
   },
   "file_extension": ".py",
   "mimetype": "text/x-python",
   "name": "python",
   "nbconvert_exporter": "python",
   "pygments_lexer": "ipython3",
   "version": "3.7.4"
  }
 },
 "nbformat": 4,
 "nbformat_minor": 2
}
