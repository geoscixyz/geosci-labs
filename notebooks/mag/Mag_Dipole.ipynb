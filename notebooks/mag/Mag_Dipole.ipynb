{
 "cells": [
  {
   "cell_type": "code",
   "execution_count": 1,
   "metadata": {
    "scrolled": false
   },
   "outputs": [],
   "source": [
    "%matplotlib notebook\n",
    "from geoscilabs.mag.MagDipole import interact_pic"
   ]
  },
  {
   "cell_type": "markdown",
   "metadata": {},
   "source": [
    "### Define a magnetic dipole\n",
    "\n",
    "A dipole is defined in the section below using\n",
    "* dipoleloc: x, y, z location of the dipole center\n",
    "* dipoledec: declination of the dipole's direction in degree; north = 0; positive clockwise\n",
    "* dipoleinc: declination of the dipole's direction in degree; horizontal = 0; positive down\n",
    "* dipoleL: length of the dipole *L* or the distance between two opposite charges *Q* that make the dipole\n",
    "* dipolemoement: $m=\\frac{QL}{\\mu_0}$\n"
   ]
  },
  {
   "cell_type": "markdown",
   "metadata": {},
   "source": [
    "### Define the Earth's magnetic field $B_0$\n",
    "$B_0$ is used to calcualte the total field anomaly, which is the projection of the anomalous vector field onto the earth's field (inner product).\n",
    "* B0: the magnitude of the earth's field\n",
    "* Binc: inclination of the earth's field\n",
    "* Bdec: declination of the earth's field"
   ]
  },
  {
   "cell_type": "markdown",
   "metadata": {},
   "source": [
    "### Define the observations\n",
    "Four data plots will be generated in the figure: magnetic anomalous field map (contour) at a certain elevation, magnetic anomalous field data (curve) along a x-profile and a y-profile, and the magnetic field lines of the dipole. \n",
    "* xmin, xmax, ymin, ymax: the outer bounds of the survey grid\n",
    "* z: elevation at which the data map is measured\n",
    "* profile_x, profile_y: x-coordinate of y-profile, y-coordinate of x-profile\n",
    "* h: grid interval\n",
    "* radii: how far the field lines expand; can plot multiple layers if given (r1, r2, ...)\n",
    "* Naz: number of azimuth angles for the field line"
   ]
  },
  {
   "cell_type": "markdown",
   "metadata": {},
   "source": [
    "### Calculate data for plotting"
   ]
  },
  {
   "cell_type": "markdown",
   "metadata": {},
   "source": [
    "### 3D plot of field lines and data\n",
    "* Color bar in nT\n",
    "* Spatial distance in meter\n",
    "* Profile data only reflects shape of anomaly and positivity"
   ]
  },
  {
   "cell_type": "code",
   "execution_count": 2,
   "metadata": {},
   "outputs": [
    {
     "data": {
      "application/vnd.jupyter.widget-view+json": {
       "model_id": "607617e021c940b2838bbdbdb8f3b0d6",
       "version_major": 2,
       "version_minor": 0
      },
      "text/plain": [
       "VBox(children=(HBox(children=(FloatText(value=0.0, description='X'), FloatText(value=0.0, description='Y'), Fl…"
      ]
     },
     "metadata": {},
     "output_type": "display_data"
    }
   ],
   "source": [
    "interact_pic()"
   ]
  },
  {
   "cell_type": "code",
   "execution_count": null,
   "metadata": {},
   "outputs": [],
   "source": []
  },
  {
   "cell_type": "code",
   "execution_count": null,
   "metadata": {},
   "outputs": [],
   "source": []
  },
  {
   "cell_type": "code",
   "execution_count": null,
   "metadata": {},
   "outputs": [],
   "source": []
  },
  {
   "cell_type": "code",
   "execution_count": null,
   "metadata": {},
   "outputs": [],
   "source": []
  },
  {
   "cell_type": "code",
   "execution_count": null,
   "metadata": {},
   "outputs": [],
   "source": []
  }
 ],
 "metadata": {
  "kernelspec": {
   "display_name": "Python 3",
   "language": "python",
   "name": "python3"
  },
  "language_info": {
   "codemirror_mode": {
    "name": "ipython",
    "version": 3
   },
   "file_extension": ".py",
   "mimetype": "text/x-python",
   "name": "python",
   "nbconvert_exporter": "python",
   "pygments_lexer": "ipython3",
   "version": "3.7.2"
  }
 },
 "nbformat": 4,
 "nbformat_minor": 2
}
