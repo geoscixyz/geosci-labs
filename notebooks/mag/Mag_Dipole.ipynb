{
 "cells": [
  {
   "cell_type": "code",
   "execution_count": null,
   "metadata": {},
   "outputs": [],
   "source": [
    "%matplotlib notebook\n",
    "from mpl_toolkits.mplot3d import Axes3D\n",
    "import matplotlib.pyplot as plt\n",
    "import numpy as np\n",
    "from geoscilabs.mag.MagDipole import MagneticLongDipoleLine, MagneticLongDipoleField"
   ]
  },
  {
   "cell_type": "markdown",
   "metadata": {},
   "source": [
    "### Define a magnetic dipole\n",
    "\n",
    "A dipole is defined in the section below using\n",
    "* dipoleloc: x, y, z location of the dipole center\n",
    "* dipoledec: declination of the dipole's direction in degree; north = 0; positive clockwise\n",
    "* dipoleinc: declination of the dipole's direction in degree; horizontal = 0; positive down\n",
    "* dipoleL: length of the dipole *L* or the distance between two opposite charges *Q* that make the dipole\n",
    "* dipolemoement: $m=\\frac{QL}{\\mu_0}$\n"
   ]
  },
  {
   "cell_type": "code",
   "execution_count": null,
   "metadata": {},
   "outputs": [],
   "source": [
    "# define a dipole\n",
    "dipoleloc = (0.,0.,-50.)\n",
    "dipoleL = 100.\n",
    "dipoledec, dipoleinc = 0., 90.\n",
    "dipolemoment = 1e13"
   ]
  },
  {
   "cell_type": "markdown",
   "metadata": {},
   "source": [
    "### Define the Earth's magnetic field $B_0$\n",
    "$B_0$ is used to calcualte the total field anomaly, which is the projection of the anomalous vector field onto the earth's field (inner product).\n",
    "* B0: the magnitude of the earth's field\n",
    "* Binc: inclination of the earth's field\n",
    "* Bdec: declination of the earth's field"
   ]
  },
  {
   "cell_type": "code",
   "execution_count": null,
   "metadata": {},
   "outputs": [],
   "source": [
    "# geomagnetic field\n",
    "B0, Binc, Bdec = 53600e-9, 90., 0. # in Tesla, degree, degree\n",
    "B0x = B0*np.cos(np.radians(Binc))*np.sin(np.radians(Bdec))\n",
    "B0y = B0*np.cos(np.radians(Binc))*np.cos(np.radians(Bdec))\n",
    "B0z = -B0*np.sin(np.radians(Binc))"
   ]
  },
  {
   "cell_type": "markdown",
   "metadata": {},
   "source": [
    "### Define the observations\n",
    "Four data plots will be generated in the figure: magnetic anomalous field map (contour) at a certain elevation, magnetic anomalous field data (curve) along a x-profile and a y-profile, and the magnetic field lines of the dipole. \n",
    "* xmin, xmax, ymin, ymax: the outer bounds of the survey grid\n",
    "* z: elevation at which the data map is measured\n",
    "* profile_x, profile_y: x-coordinate of y-profile, y-coordinate of x-profile\n",
    "* h: grid interval\n",
    "* radii: how far the field lines expand; can plot multiple layers if given (r1, r2, ...)\n",
    "* Naz: number of azimuth angles for the field line"
   ]
  },
  {
   "cell_type": "code",
   "execution_count": null,
   "metadata": {},
   "outputs": [],
   "source": [
    "# set observation grid\n",
    "xmin, xmax, ymin, ymax, z = -5., 5., -5., 5., 1. # x, y bounds and elevation\n",
    "profile_x = 0. # x-coordinate of y-profile\n",
    "profile_y = 0. # y-coordinate of x-profile\n",
    "h = 0.2 # grid interval\n",
    "radii = (2., 5.) # how many layers of field lines for plotting\n",
    "Naz = 10 # number of azimuth"
   ]
  },
  {
   "cell_type": "markdown",
   "metadata": {},
   "source": [
    "### Calculate data for plotting"
   ]
  },
  {
   "cell_type": "code",
   "execution_count": null,
   "metadata": {},
   "outputs": [],
   "source": [
    "# get field lines\n",
    "linex, liney, linez = MagneticLongDipoleLine(dipoleloc,dipoledec,dipoleinc,dipoleL,radii,Naz)\n",
    "\n",
    "# get map\n",
    "xi, yi = np.meshgrid(np.r_[xmin:xmax+h:h], np.r_[ymin:ymax+h:h])\n",
    "x1, y1 = xi.flatten(), yi.flatten()\n",
    "z1 = np.full(x1.shape,z)\n",
    "Bx, By, Bz = np.zeros(len(x1)), np.zeros(len(x1)), np.zeros(len(x1))\n",
    "\n",
    "for i in np.arange(len(x1)):\n",
    "    Bx[i], By[i], Bz[i] = MagneticLongDipoleField(dipoleloc,dipoledec,dipoleinc,dipoleL,(x1[i],y1[i],z1[i]),dipolemoment)\n",
    "Ba1 = np.dot(np.r_[B0x,B0y,B0z], np.vstack((Bx,By,Bz)))\n",
    "\n",
    "# get x-profile\n",
    "x2 = np.r_[xmin:xmax+h:h]\n",
    "y2, z2 = np.full(x2.shape,profile_y), np.full(x2.shape,z)\n",
    "Bx, By, Bz = np.zeros(len(x2)), np.zeros(len(x2)), np.zeros(len(x2))\n",
    "for i in np.arange(len(x2)):\n",
    "    Bx[i], By[i], Bz[i] = MagneticLongDipoleField(dipoleloc,dipoledec,dipoleinc,dipoleL,(x2[i],y2[i],z2[i]),dipolemoment)\n",
    "Ba2 = np.dot(np.r_[B0x,B0y,B0z], np.vstack((Bx,By,Bz)))\n",
    "\n",
    "# get y-profile\n",
    "y3 = np.r_[ymin:ymax+h:h]\n",
    "x3, z3 = np.full(y3.shape,profile_x), np.full(y3.shape,z)\n",
    "Bx, By, Bz = np.zeros(len(x3)), np.zeros(len(x3)), np.zeros(len(x3))\n",
    "for i in np.arange(len(x3)):\n",
    "    Bx[i], By[i], Bz[i] = MagneticLongDipoleField(dipoleloc,dipoledec,dipoleinc,dipoleL,(x3[i],y3[i],z3[i]),dipolemoment)\n",
    "Ba3 = np.dot(np.r_[B0x,B0y,B0z], np.vstack((Bx,By,Bz)))"
   ]
  },
  {
   "cell_type": "markdown",
   "metadata": {},
   "source": [
    "### 3D plot of field lines and data\n",
    "* Color bar in nT\n",
    "* Spatial distance in meter\n",
    "* Profile data only reflects shape of anomaly and positivity"
   ]
  },
  {
   "cell_type": "code",
   "execution_count": null,
   "metadata": {},
   "outputs": [],
   "source": [
    "fig = plt.figure()\n",
    "ax = fig.gca(projection='3d')\n",
    "\n",
    "# plot field lines\n",
    "for lx,ly,lz in zip(linex,liney,linez):\n",
    "    ax.plot(lx,ly,lz,'-',markersize=1)\n",
    "\n",
    "# plot map\n",
    "ax.scatter(x1,y1,z1,s=2,alpha=0.3)\n",
    "Bt = Ba1.reshape(xi.shape)*1e9 # contour and color scale in nT \n",
    "c = ax.contourf(xi,yi,Bt,alpha=1,zdir='z',offset=z-max(radii)*2,cmap='jet',\n",
    "                  levels=np.linspace(Bt.min(),Bt.max(),50,endpoint=True))\n",
    "fig.colorbar(c)\n",
    "\n",
    "# auto-scaling for profile plot\n",
    "ptpmax = np.max((Ba2.ptp(),Ba3.ptp())) # dynamic range\n",
    "autoscaling = np.max(radii) / ptpmax\n",
    "\n",
    "# plot x-profile\n",
    "ax.scatter(x2,y2,z2,s=2,c='black',alpha=0.3)\n",
    "ax.plot(x2,Ba2*autoscaling,zs=ymax,c='black',zdir='y')\n",
    "\n",
    "# plot y-profile\n",
    "ax.scatter(x3,y3,z3,s=2,c='black',alpha=0.3)\n",
    "ax.plot(y3,Ba3*autoscaling,zs=xmin,c='black',zdir='x')\n",
    "\n",
    "ax.set_xlabel('X')\n",
    "ax.set_ylabel('Y')\n",
    "ax.set_zlabel('Z')\n",
    "\n",
    "ax.set_xlim(xmin, xmax)\n",
    "ax.set_ylim(ymin, ymax)\n",
    "ax.set_zlim(z-max(radii)*2, max(radii)*1.5)\n",
    "\n"
   ]
  },
  {
   "cell_type": "code",
   "execution_count": null,
   "metadata": {},
   "outputs": [],
   "source": []
  }
 ],
 "metadata": {
  "kernelspec": {
   "display_name": "Python 3",
   "language": "python",
   "name": "python3"
  },
  "language_info": {
   "codemirror_mode": {
    "name": "ipython",
    "version": 3
   },
   "file_extension": ".py",
   "mimetype": "text/x-python",
   "name": "python",
   "nbconvert_exporter": "python",
   "pygments_lexer": "ipython3",
   "version": "3.7.4"
  }
 },
 "nbformat": 4,
 "nbformat_minor": 2
}
